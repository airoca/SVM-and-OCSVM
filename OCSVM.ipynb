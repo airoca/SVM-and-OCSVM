{
  "cells": [
    {
      "cell_type": "markdown",
      "metadata": {
        "id": "kViZ8X3Okpdi"
      },
      "source": [
        "### **One Class Support Vector Machine (OCSVM)**"
      ]
    },
    {
      "cell_type": "markdown",
      "metadata": {
        "id": "qhUP8Mxykg03"
      },
      "source": [
        "### **1. Access to the DeepFake real and fake data**"
      ]
    },
    {
      "cell_type": "code",
      "execution_count": null,
      "metadata": {
        "colab": {
          "base_uri": "https://localhost:8080/"
        },
        "id": "dan1SGCmjiSk",
        "outputId": "3d162646-1e0d-4617-c505-4786375803e6"
      },
      "outputs": [
        {
          "name": "stdout",
          "output_type": "stream",
          "text": [
            "Drive already mounted at /content/drive; to attempt to forcibly remount, call drive.mount(\"/content/drive\", force_remount=True).\n"
          ]
        }
      ],
      "source": [
        "from google.colab import drive\n",
        "drive.mount('/content/drive')"
      ]
    },
    {
      "cell_type": "code",
      "execution_count": null,
      "metadata": {
        "colab": {
          "base_uri": "https://localhost:8080/"
        },
        "id": "slrrYDtjjlw1",
        "outputId": "f9e66f08-270f-4835-fac5-4b5492a7a694"
      },
      "outputs": [
        {
          "name": "stdout",
          "output_type": "stream",
          "text": [
            "replace /content/deepfake_dataset/test/fake/frame0_face_0001.png? [y]es, [n]o, [A]ll, [N]one, [r]ename: "
          ]
        }
      ],
      "source": [
        "# Unzip the our data\n",
        "!unzip -qq \"/content/drive/MyDrive/deepfake_dataset_OCSVM.zip\"  -d \"/content\""
      ]
    },
    {
      "cell_type": "code",
      "execution_count": null,
      "metadata": {
        "id": "95tp2gD6jxRv"
      },
      "outputs": [],
      "source": [
        "# Set the directories to training, validation and test data\n",
        "train_data_path = './deepfake_dataset/train/'\n",
        "validation_data_path = './deepfake_dataset/validation/'\n",
        "test_data_path = './deepfake_dataset/test/'"
      ]
    },
    {
      "cell_type": "code",
      "execution_count": null,
      "metadata": {
        "colab": {
          "base_uri": "https://localhost:8080/"
        },
        "id": "fxmuK3zej8YW",
        "outputId": "412b62ec-d258-4fef-f7a3-b432f34b2a76"
      },
      "outputs": [
        {
          "name": "stderr",
          "output_type": "stream",
          "text": [
            "6989it [00:03, 2146.15it/s]\n",
            "2003it [00:05, 334.08it/s]\n",
            "4022it [00:09, 410.88it/s]\n"
          ]
        }
      ],
      "source": [
        "# List out all image file name in the folders\n",
        "from glob import glob # This library used to get all file in folder\n",
        "from tqdm import tqdm # This lbrary used to show progress bar\n",
        "import numpy as np\n",
        "import cv2\n",
        "width = 32 # Reshape image to new width\n",
        "height = 32 # Reshape image to new height\n",
        "\n",
        "def get_img_file(directory):\n",
        "  \"\"\"\n",
        "  Get all real and fake file name in the directory, label real as 0s and fake as 1s\n",
        "  \"\"\"\n",
        "  real_list = glob(directory + \"real/*.jpg\")\n",
        "  fake_list = glob(directory + \"fake/*.png\")\n",
        "  file_list = real_list + fake_list\n",
        "\n",
        "  real_lb = [0] * len(real_list)\n",
        "  fake_lb = [1] * len(fake_list)\n",
        "  label_list = real_lb+fake_lb\n",
        "\n",
        "  num_imgs = len(label_list)\n",
        "  imgs = np.zeros((num_imgs, width, height, 3), dtype=np.int16)\n",
        "\n",
        "  for idx, file in tqdm(enumerate(file_list)):\n",
        "    img_bgr = cv2.imread(file) # Read image\n",
        "    img_rgb = cv2.cvtColor(img_bgr, cv2.COLOR_BGR2RGB)\n",
        "    img_resize = cv2.resize(img_rgb, (width, height), interpolation = cv2.INTER_AREA) # Resize image\n",
        "    imgs[idx] = img_resize\n",
        "\n",
        "  return imgs, np.array(label_list)\n",
        "\n",
        "train_imgs, train_lbs = get_img_file(train_data_path)\n",
        "val_imgs, val_lbs = get_img_file(validation_data_path)\n",
        "test_imgs, test_lbs = get_img_file(test_data_path)"
      ]
    },
    {
      "cell_type": "markdown",
      "metadata": {
        "id": "Rdk7F7Esr9lR"
      },
      "source": [
        "### **2. Visualize some random images in training set**"
      ]
    },
    {
      "cell_type": "code",
      "execution_count": null,
      "metadata": {
        "colab": {
          "base_uri": "https://localhost:8080/",
          "height": 675
        },
        "id": "Z4MDvmGJkCZd",
        "outputId": "b4defe7e-5dac-4624-b286-4ae98f0e4c7d"
      },
      "outputs": [
        {
          "data": {
            "image/png": "[encoded data removed]",
            "text/plain": [
              "<Figure size 800x800 with 4 Axes>"
            ]
          },
          "metadata": {},
          "output_type": "display_data"
        }
      ],
      "source": [
        "from matplotlib import pyplot as plt\n",
        "classes = ['real']\n",
        "num_classes = len(classes)\n",
        "samples_per_class = 4\n",
        "plt.figure(figsize=(8,8))\n",
        "for y, cls in enumerate(classes):\n",
        "    idxs = np.flatnonzero(train_lbs == y)\n",
        "    idxs = np.random.choice(idxs, samples_per_class, replace=False)\n",
        "    for i, idx in enumerate(idxs):\n",
        "        plt_idx = i * num_classes + y + 1\n",
        "        plt.subplot(samples_per_class, num_classes, plt_idx)\n",
        "        plt.imshow(train_imgs[idx].astype('uint8'))\n",
        "        plt.axis('off')\n",
        "        if i == 0:\n",
        "            plt.title(cls)\n",
        "plt.show()\n"
      ]
    },
    {
      "cell_type": "markdown",
      "metadata": {
        "id": "nz-aILuG2qXB"
      },
      "source": [
        "### **3. Transform the dataset**\n",
        "Our (train / val / test) input data have the shape of 4-D matrix `num_images x width x height x 3`, where 3 is the number of channels of each imag (Red, Green and Blue channel).\n",
        "To fix into our SVM model, each of train / val / test dataset are transformed to a 2D matrix `num_images x F`, where `F = width x height x 3`."
      ]
    },
    {
      "cell_type": "code",
      "execution_count": null,
      "metadata": {
        "colab": {
          "base_uri": "https://localhost:8080/"
        },
        "id": "QAfLIVZs-YqT",
        "outputId": "a9ab6c01-4559-40cd-9117-a207cf77ced3"
      },
      "outputs": [
        {
          "name": "stdout",
          "output_type": "stream",
          "text": [
            "Training data shape:  (6989, 32, 32, 3)\n",
            "Validation labels shape:  (2003, 32, 32, 3)\n",
            "Test data shape:  (4022, 32, 32, 3)\n"
          ]
        }
      ],
      "source": [
        "print('Training data shape: ', train_imgs.shape)\n",
        "print('Validation labels shape: ' , val_imgs.shape)\n",
        "print('Test data shape: ', test_imgs.shape)"
      ]
    },
    {
      "cell_type": "code",
      "execution_count": null,
      "metadata": {
        "colab": {
          "base_uri": "https://localhost:8080/"
        },
        "id": "JTqLd5o6qYMT",
        "outputId": "dd43908c-3c61-4a06-cb54-2f2ccf90feae"
      },
      "outputs": [
        {
          "name": "stdout",
          "output_type": "stream",
          "text": [
            "Transformed training data shape:  (6989, 3072)\n",
            "Transformed validation data shape:  (2003, 3072)\n",
            "Transformed test data shape:  (4022, 3072)\n"
          ]
        }
      ],
      "source": [
        "import numpy as np\n",
        "\n",
        "train_imgs_trans = train_imgs.reshape(train_imgs.shape[0], -1)\n",
        "val_imgs_trans = val_imgs.reshape(val_imgs.shape[0], -1)\n",
        "test_imgs_trans = test_imgs.reshape(test_imgs.shape[0], -1)\n",
        "\n",
        "print('Transformed training data shape: ', train_imgs_trans.shape)\n",
        "print('Transformed validation data shape: ', val_imgs_trans.shape)\n",
        "print('Transformed test data shape: ', test_imgs_trans.shape)\n",
        "\n",
        "train_imgs_trans = train_imgs.reshape(-1, width*height*3)\n",
        "val_imgs_trans = val_imgs.reshape(-1, width*height*3)\n",
        "test_imgs_trans = test_imgs.reshape(-1, width*height*3)"
      ]
    },
    {
      "cell_type": "code",
      "execution_count": null,
      "metadata": {
        "colab": {
          "base_uri": "https://localhost:8080/"
        },
        "id": "_3YLvJABAXeq",
        "outputId": "2fcf7db2-2873-456f-c7ad-bbe223d614c1"
      },
      "outputs": [
        {
          "name": "stdout",
          "output_type": "stream",
          "text": [
            "True\n",
            "True\n",
            "True\n"
          ]
        }
      ],
      "source": [
        "# Sanity check new shape of input data\n",
        "print(train_imgs_trans.shape == (len(train_imgs), width*height*3))\n",
        "print(val_imgs_trans.shape == (len(val_imgs), width*height*3))\n",
        "print(test_imgs_trans.shape == (len(test_imgs), width*height*3))"
      ]
    },
    {
      "cell_type": "markdown",
      "metadata": {
        "id": "NMsRujEXAuWY"
      },
      "source": [
        "**Question 2.** Now, to normalize the data, you are asked to calculate the mean of training data set. The mean vector will have the shape of `F`. And then subtract the mean from the training / val / test dataset."
      ]
    },
    {
      "cell_type": "markdown",
      "metadata": {
        "id": "Q26a9C3JjWJM"
      },
      "source": [
        "**Answer.**\n",
        "\n",
        "The code calculates the mean vector of the training dataset (train_mean) by averaging the pixel values across all images. This vector represents the average pixel value for each position across all training images. A sanity check verifies that the shape of the mean vector matches the expected dimensions. Then, the code normalizes the training, validation, and test datasets by subtracting this mean vector from each dataset's corresponding reshaped 2D array."
      ]
    },
    {
      "cell_type": "code",
      "execution_count": null,
      "metadata": {
        "colab": {
          "base_uri": "https://localhost:8080/"
        },
        "id": "rwp8NTCnAMgC",
        "outputId": "48144968-4197-45e1-cc73-dd3066b4da4d"
      },
      "outputs": [
        {
          "name": "stdout",
          "output_type": "stream",
          "text": [
            "True\n"
          ]
        }
      ],
      "source": [
        "temp_mean_value = train_imgs_trans.mean() # mean value\n",
        "train_mean = np.full((width*height*3,), temp_mean_value) # fill array with mean value\n",
        "\n",
        "# Sanity check shape of mean vector\n",
        "print(train_mean.shape == (width*height*3,))\n",
        "\n",
        "# Subtract mean from train / val / test\n",
        "train_imgs_norm = train_imgs_trans - train_mean\n",
        "val_imgs_norm = val_imgs_trans - train_mean\n",
        "test_imgs_norm = test_imgs_trans - train_mean"
      ]
    },
    {
      "cell_type": "markdown",
      "metadata": {
        "id": "CJi9mgBdDb0u"
      },
      "source": [
        "### **4. One Class Support Vector Machine**\n",
        "\n",
        "One-Class SVM (Support Vector Machine) is an unsupervised learning algorithm used for anomaly detection. It is particularly useful when the task involves identifying whether a data point belongs to a certain class or not, based on training data that contains only examples of that class.\n",
        "\n",
        "### How One-Class SVM Works\n",
        "\n",
        "1. **Training Phase**:\n",
        "    - The algorithm is trained on a dataset that contains only examples of the normal class.  <font color=#FF0000>**For our assignment, we will only train real class in train set.**</font>\n",
        "    - It constructs a hyperplane that maximizes the distance from the origin to the nearest data points, effectively enclosing the normal data points within a boundary in the feature space.\n",
        "\n",
        "2. **Testing Phase**:\n",
        "    - When a new data point is presented, the algorithm determines its position relative to the hyperplane.\n",
        "    - If the data point lies within the boundary defined by the hyperplane, it is considered normal.\n",
        "    - If it lies outside this boundary, it is flagged as an anomaly.\n",
        "    - <font color=#FF0000>**For our assignment, we will test both class in validation set and test set.**</font>\n",
        "\n",
        "<font color=#FF0000>**OC-SVM don't take any labels for training and validation, for calculating accuracy in validation and test, you need to choose threshold value for comparing with ground truth by yourself. for more instruction, follow this; https://scikit-learn.org/stable/modules/generated/sklearn.svm.OneClassSVM.html**</font>\n",
        "\n",
        "\n",
        "### Mathematical Formulation\n",
        "\n",
        "The objective of One-Class SVM is to solve the following optimization problem:\n",
        "\n",
        "$$ \\min_{\\mathbf{w}, \\rho, \\xi_i} \\frac{1}{2} \\|\\mathbf{w}\\|^2 + \\frac{1}{\\nu n} \\sum_{i=1}^n \\xi_i - \\rho $$\n",
        "\n",
        "subject to:\n",
        "\n",
        "$$ (\\mathbf{w} \\cdot \\phi(\\mathbf{x}_i)) \\geq \\rho - \\xi_i, \\quad \\xi_i \\geq 0, \\quad i = 1, \\ldots, n $$\n",
        "\n",
        "where:\n",
        "- $\\mathbf{w}$ is the normal vector to the hyperplane.\n",
        "- $\\phi(\\mathbf{x}_i)$ is the feature mapping function.\n",
        "- $\\rho$ is the offset from the origin.\n",
        "- $\\xi_i$ are slack variables that allow for some data points to lie within the margin.\n",
        "- $\\nu$ is a parameter that controls the trade-off between maximizing the margin and minimizing the number of anomalies (outliers).\n",
        "\n",
        "### Dual Formulation\n",
        "\n",
        "The primal problem can be converted into a dual problem using Lagrange multipliers. The dual form is typically more efficient to solve and is given by:\n",
        "\n",
        "$$ \\max_{\\alpha} -\\frac{1}{2} \\sum_{i,j=1}^n \\alpha_i \\alpha_j K(\\mathbf{x}_i, \\mathbf{x}_j) $$\n",
        "\n",
        "subject to:\n",
        "\n",
        "$$ 0 \\leq \\alpha_i \\leq \\frac{1}{\\nu n}, \\quad \\sum_{i=1}^n \\alpha_i = 1 $$\n",
        "\n",
        "where:\n",
        "- $\\alpha_i$ are the Lagrange multipliers.\n",
        "- $K(\\mathbf{x}_i, \\mathbf{x}_j) = \\phi(\\mathbf{x}_i) \\cdot \\phi(\\mathbf{x}_j)$ is the kernel function.\n",
        "\n",
        "### Decision Function\n",
        "\n",
        "After solving the dual problem, the decision function is given by:\n",
        "\n",
        "$$ f(\\mathbf{x}) = \\sum_{i=1}^n \\alpha_i K(\\mathbf{x}_i, \\mathbf{x}) - \\rho $$\n",
        "\n",
        "A new data point $\\mathbf{x}$ is classified as follows:\n",
        "- If $f(\\mathbf{x}) \\geq 0$, the point is considered normal.\n",
        "- If $f(\\mathbf{x}) < 0$, the point is considered an anomaly.\n",
        "\n",
        "### Kernels\n",
        "\n",
        "The kernel function $K(\\mathbf{x}_i, \\mathbf{x}_j)$ can be chosen based on the problem at hand. Common choices include:\n",
        "- Linear kernel: $K(\\mathbf{x}_i, \\mathbf{x}_j) = \\mathbf{x}_i \\cdot \\mathbf{x}_j$\n",
        "- Polynomial kernel: $K(\\mathbf{x}_i, \\mathbf{x}_j) = (\\mathbf{x}_i \\cdot \\mathbf{x}_j + c)^d$\n",
        "- Radial basis function (RBF) kernel: $K(\\mathbf{x}_i, \\mathbf{x}_j) = \\exp\\left(-\\gamma \\|\\mathbf{x}_i - \\mathbf{x}_j\\|^2\\right)$\n",
        "\n",
        "\n"
      ]
    },
    {
      "cell_type": "markdown",
      "metadata": {
        "id": "zT7mdehDhros"
      },
      "source": [
        "#### **4.1 One Class Support vector machine with `linear` kernel**\n",
        "Precison, Recall, F1, and accuracy of *validation set* of One Class SVM model with `linear` kernel, trade-off parameter `ν = 0.7`.\n",
        "> **Result.**\n",
        "- Precision (Linear Kernel): 0.5366\n",
        "- Recall (Linear Kernel): 0.8265\n",
        "- F1 Score (Linear Kernel): 0.6507\n",
        "- Accuracy (Linear Kernel): 0.5557"
      ]
    },
    {
      "cell_type": "code",
      "execution_count": null,
      "metadata": {
        "id": "hICAUjzWEEE3"
      },
      "outputs": [],
      "source": [
        "from sklearn.svm import OneClassSVM\n",
        "from sklearn.metrics import precision_score, recall_score, f1_score, accuracy_score\n",
        "\n",
        "ocsvm_linear = OneClassSVM(kernel='linear', nu=0.7)\n",
        "real_train_imgs_norm = train_imgs_norm[train_lbs == 0] # Only train 'real' class\n",
        "ocsvm_linear.fit(real_train_imgs_norm)"
      ]
    },
    {
      "cell_type": "code",
      "execution_count": null,
      "metadata": {
        "colab": {
          "base_uri": "https://localhost:8080/"
        },
        "id": "qxcc5xn4TcjD",
        "outputId": "8e6a0397-1f76-4cfb-889e-7d2e20f7ef93"
      },
      "outputs": [
        {
          "name": "stdout",
          "output_type": "stream",
          "text": [
            "Precision (Linear Kernel): 0.5366\n",
            "Recall (Linear Kernel): 0.8265\n",
            "F1 Score (Linear Kernel): 0.6507\n",
            "Accuracy (Linear Kernel): 0.5557\n"
          ]
        }
      ],
      "source": [
        "val_preds_linear = ocsvm_linear.predict(val_imgs_norm)\n",
        "val_preds_linear = np.where(val_preds_linear == 1, 0, 1)\n",
        "\n",
        "precision_linear = precision_score(val_lbs, val_preds_linear)\n",
        "recall_linear = recall_score(val_lbs, val_preds_linear)\n",
        "f1_linear = f1_score(val_lbs, val_preds_linear)\n",
        "accuracy_linear = accuracy_score(val_lbs, val_preds_linear)\n",
        "\n",
        "print(f\"Precision (Linear Kernel): {precision_linear:.4f}\")\n",
        "print(f\"Recall (Linear Kernel): {recall_linear:.4f}\")\n",
        "print(f\"F1 Score (Linear Kernel): {f1_linear:.4f}\")\n",
        "print(f\"Accuracy (Linear Kernel): {accuracy_linear:.4f}\")"
      ]
    },
    {
      "cell_type": "markdown",
      "metadata": {
        "id": "ngYyO6uFFBn0"
      },
      "source": [
        "#### **4.2 One Class Support vector machine with `rbf` kernel**\n",
        "Precison, Recall, F1, and accuracy of *validation set* of OCSVM model with `rbf` kernel, trade-off parameter `ν = 0.7`.\n",
        "> **Result.**\n",
        "- Precision (RBF Kernel): 0.3704\n",
        "- Recall (RBF Kernel): 0.4317\n",
        "- F1 Score (RBF Kernel): 0.3987\n",
        "- Accuracy (RBF Kernel): 0.3480"
      ]
    },
    {
      "cell_type": "code",
      "execution_count": null,
      "metadata": {
        "colab": {
          "base_uri": "https://localhost:8080/",
          "height": 75
        },
        "id": "lCREKh1CE5b0",
        "outputId": "11224e81-8db4-4366-9db7-b6f291cf5fba"
      },
      "outputs": [
        {
          "data": {
            "text/html": [
              "<style>#sk-container-id-2 {color: black;background-color: white;}#sk-container-id-2 pre{padding: 0;}#sk-container-id-2 div.sk-toggleable {background-color: white;}#sk-container-id-2 label.sk-toggleable__label {cursor: pointer;display: block;width: 100%;margin-bottom: 0;padding: 0.3em;box-sizing: border-box;text-align: center;}#sk-container-id-2 label.sk-toggleable__label-arrow:before {content: \"▸\";float: left;margin-right: 0.25em;color: #696969;}#sk-container-id-2 label.sk-toggleable__label-arrow:hover:before {color: black;}#sk-container-id-2 div.sk-estimator:hover label.sk-toggleable__label-arrow:before {color: black;}#sk-container-id-2 div.sk-toggleable__content {max-height: 0;max-width: 0;overflow: hidden;text-align: left;background-color: #f0f8ff;}#sk-container-id-2 div.sk-toggleable__content pre {margin: 0.2em;color: black;border-radius: 0.25em;background-color: #f0f8ff;}#sk-container-id-2 input.sk-toggleable__control:checked~div.sk-toggleable__content {max-height: 200px;max-width: 100%;overflow: auto;}#sk-container-id-2 input.sk-toggleable__control:checked~label.sk-toggleable__label-arrow:before {content: \"▾\";}#sk-container-id-2 div.sk-estimator input.sk-toggleable__control:checked~label.sk-toggleable__label {background-color: #d4ebff;}#sk-container-id-2 div.sk-label input.sk-toggleable__control:checked~label.sk-toggleable__label {background-color: #d4ebff;}#sk-container-id-2 input.sk-hidden--visually {border: 0;clip: rect(1px 1px 1px 1px);clip: rect(1px, 1px, 1px, 1px);height: 1px;margin: -1px;overflow: hidden;padding: 0;position: absolute;width: 1px;}#sk-container-id-2 div.sk-estimator {font-family: monospace;background-color: #f0f8ff;border: 1px dotted black;border-radius: 0.25em;box-sizing: border-box;margin-bottom: 0.5em;}#sk-container-id-2 div.sk-estimator:hover {background-color: #d4ebff;}#sk-container-id-2 div.sk-parallel-item::after {content: \"\";width: 100%;border-bottom: 1px solid gray;flex-grow: 1;}#sk-container-id-2 div.sk-label:hover label.sk-toggleable__label {background-color: #d4ebff;}#sk-container-id-2 div.sk-serial::before {content: \"\";position: absolute;border-left: 1px solid gray;box-sizing: border-box;top: 0;bottom: 0;left: 50%;z-index: 0;}#sk-container-id-2 div.sk-serial {display: flex;flex-direction: column;align-items: center;background-color: white;padding-right: 0.2em;padding-left: 0.2em;position: relative;}#sk-container-id-2 div.sk-item {position: relative;z-index: 1;}#sk-container-id-2 div.sk-parallel {display: flex;align-items: stretch;justify-content: center;background-color: white;position: relative;}#sk-container-id-2 div.sk-item::before, #sk-container-id-2 div.sk-parallel-item::before {content: \"\";position: absolute;border-left: 1px solid gray;box-sizing: border-box;top: 0;bottom: 0;left: 50%;z-index: -1;}#sk-container-id-2 div.sk-parallel-item {display: flex;flex-direction: column;z-index: 1;position: relative;background-color: white;}#sk-container-id-2 div.sk-parallel-item:first-child::after {align-self: flex-end;width: 50%;}#sk-container-id-2 div.sk-parallel-item:last-child::after {align-self: flex-start;width: 50%;}#sk-container-id-2 div.sk-parallel-item:only-child::after {width: 0;}#sk-container-id-2 div.sk-dashed-wrapped {border: 1px dashed gray;margin: 0 0.4em 0.5em 0.4em;box-sizing: border-box;padding-bottom: 0.4em;background-color: white;}#sk-container-id-2 div.sk-label label {font-family: monospace;font-weight: bold;display: inline-block;line-height: 1.2em;}#sk-container-id-2 div.sk-label-container {text-align: center;}#sk-container-id-2 div.sk-container {/* jupyter's `normalize.less` sets `[hidden] { display: none; }` but bootstrap.min.css set `[hidden] { display: none !important; }` so we also need the `!important` here to be able to override the default hidden behavior on the sphinx rendered scikit-learn.org. See: https://github.com/scikit-learn/scikit-learn/issues/21755 */display: inline-block !important;position: relative;}#sk-container-id-2 div.sk-text-repr-fallback {display: none;}</style><div id=\"sk-container-id-2\" class=\"sk-top-container\"><div class=\"sk-text-repr-fallback\"><pre>OneClassSVM(nu=0.7)</pre><b>In a Jupyter environment, please rerun this cell to show the HTML representation or trust the notebook. <br />On GitHub, the HTML representation is unable to render, please try loading this page with nbviewer.org.</b></div><div class=\"sk-container\" hidden><div class=\"sk-item\"><div class=\"sk-estimator sk-toggleable\"><input class=\"sk-toggleable__control sk-hidden--visually\" id=\"sk-estimator-id-2\" type=\"checkbox\" checked><label for=\"sk-estimator-id-2\" class=\"sk-toggleable__label sk-toggleable__label-arrow\">OneClassSVM</label><div class=\"sk-toggleable__content\"><pre>OneClassSVM(nu=0.7)</pre></div></div></div></div></div>"
            ],
            "text/plain": [
              "OneClassSVM(nu=0.7)"
            ]
          },
          "execution_count": 12,
          "metadata": {},
          "output_type": "execute_result"
        }
      ],
      "source": [
        "ocsvm_rbf = OneClassSVM(kernel='rbf', nu=0.7)\n",
        "real_train_imgs_norm = train_imgs_norm[train_lbs == 0] # Only train 'real' class\n",
        "ocsvm_rbf.fit(real_train_imgs_norm)"
      ]
    },
    {
      "cell_type": "code",
      "execution_count": null,
      "metadata": {
        "colab": {
          "base_uri": "https://localhost:8080/"
        },
        "id": "7AZVMBSiT9n9",
        "outputId": "fa00adb2-4639-43d9-fa21-9f8850b3ac20"
      },
      "outputs": [
        {
          "name": "stdout",
          "output_type": "stream",
          "text": [
            "Precision (RBF Kernel): 0.3704\n",
            "Recall (RBF Kernel): 0.4317\n",
            "F1 Score (RBF Kernel): 0.3987\n",
            "Accuracy (RBF Kernel): 0.3480\n"
          ]
        }
      ],
      "source": [
        "val_preds_rbf = ocsvm_rbf.predict(val_imgs_norm)\n",
        "val_preds_rbf = np.where(val_preds_rbf == 1, 0, 1)\n",
        "\n",
        "precision_rbf = precision_score(val_lbs, val_preds_rbf)\n",
        "recall_rbf = recall_score(val_lbs, val_preds_rbf)\n",
        "f1_rbf = f1_score(val_lbs, val_preds_rbf)\n",
        "accuracy_rbf = accuracy_score(val_lbs, val_preds_rbf)\n",
        "\n",
        "print(f\"Precision (RBF Kernel): {precision_rbf:.4f}\")\n",
        "print(f\"Recall (RBF Kernel): {recall_rbf:.4f}\")\n",
        "print(f\"F1 Score (RBF Kernel): {f1_rbf:.4f}\")\n",
        "print(f\"Accuracy (RBF Kernel): {accuracy_rbf:.4f}\")"
      ]
    },
    {
      "cell_type": "markdown",
      "metadata": {
        "id": "dADqn6gqFE3o"
      },
      "source": [
        "#### **4.3 One Class Support vector machine with `poly` kernel**\n",
        "Precison, Recall, F1, and accuracy on the *validation set* of OCSVM model with `poly` kernel, trade-off parameter `ν = 0.7`.\n",
        "> **Result.**\n",
        "- Precision (Poly Kernel): 0.5558\n",
        "- Recall (Poly Kernel): 0.8744\n",
        "- F1 Score (Poly Kernel): 0.6796\n",
        "- Accuracy (Poly Kernel): 0.5871"
      ]
    },
    {
      "cell_type": "code",
      "execution_count": null,
      "metadata": {
        "colab": {
          "base_uri": "https://localhost:8080/",
          "height": 75
        },
        "id": "7vO3gm_cE9cL",
        "outputId": "5d3a77b7-c67f-41fe-e4b7-a4db71afb465"
      },
      "outputs": [
        {
          "data": {
            "text/html": [
              "<style>#sk-container-id-3 {color: black;background-color: white;}#sk-container-id-3 pre{padding: 0;}#sk-container-id-3 div.sk-toggleable {background-color: white;}#sk-container-id-3 label.sk-toggleable__label {cursor: pointer;display: block;width: 100%;margin-bottom: 0;padding: 0.3em;box-sizing: border-box;text-align: center;}#sk-container-id-3 label.sk-toggleable__label-arrow:before {content: \"▸\";float: left;margin-right: 0.25em;color: #696969;}#sk-container-id-3 label.sk-toggleable__label-arrow:hover:before {color: black;}#sk-container-id-3 div.sk-estimator:hover label.sk-toggleable__label-arrow:before {color: black;}#sk-container-id-3 div.sk-toggleable__content {max-height: 0;max-width: 0;overflow: hidden;text-align: left;background-color: #f0f8ff;}#sk-container-id-3 div.sk-toggleable__content pre {margin: 0.2em;color: black;border-radius: 0.25em;background-color: #f0f8ff;}#sk-container-id-3 input.sk-toggleable__control:checked~div.sk-toggleable__content {max-height: 200px;max-width: 100%;overflow: auto;}#sk-container-id-3 input.sk-toggleable__control:checked~label.sk-toggleable__label-arrow:before {content: \"▾\";}#sk-container-id-3 div.sk-estimator input.sk-toggleable__control:checked~label.sk-toggleable__label {background-color: #d4ebff;}#sk-container-id-3 div.sk-label input.sk-toggleable__control:checked~label.sk-toggleable__label {background-color: #d4ebff;}#sk-container-id-3 input.sk-hidden--visually {border: 0;clip: rect(1px 1px 1px 1px);clip: rect(1px, 1px, 1px, 1px);height: 1px;margin: -1px;overflow: hidden;padding: 0;position: absolute;width: 1px;}#sk-container-id-3 div.sk-estimator {font-family: monospace;background-color: #f0f8ff;border: 1px dotted black;border-radius: 0.25em;box-sizing: border-box;margin-bottom: 0.5em;}#sk-container-id-3 div.sk-estimator:hover {background-color: #d4ebff;}#sk-container-id-3 div.sk-parallel-item::after {content: \"\";width: 100%;border-bottom: 1px solid gray;flex-grow: 1;}#sk-container-id-3 div.sk-label:hover label.sk-toggleable__label {background-color: #d4ebff;}#sk-container-id-3 div.sk-serial::before {content: \"\";position: absolute;border-left: 1px solid gray;box-sizing: border-box;top: 0;bottom: 0;left: 50%;z-index: 0;}#sk-container-id-3 div.sk-serial {display: flex;flex-direction: column;align-items: center;background-color: white;padding-right: 0.2em;padding-left: 0.2em;position: relative;}#sk-container-id-3 div.sk-item {position: relative;z-index: 1;}#sk-container-id-3 div.sk-parallel {display: flex;align-items: stretch;justify-content: center;background-color: white;position: relative;}#sk-container-id-3 div.sk-item::before, #sk-container-id-3 div.sk-parallel-item::before {content: \"\";position: absolute;border-left: 1px solid gray;box-sizing: border-box;top: 0;bottom: 0;left: 50%;z-index: -1;}#sk-container-id-3 div.sk-parallel-item {display: flex;flex-direction: column;z-index: 1;position: relative;background-color: white;}#sk-container-id-3 div.sk-parallel-item:first-child::after {align-self: flex-end;width: 50%;}#sk-container-id-3 div.sk-parallel-item:last-child::after {align-self: flex-start;width: 50%;}#sk-container-id-3 div.sk-parallel-item:only-child::after {width: 0;}#sk-container-id-3 div.sk-dashed-wrapped {border: 1px dashed gray;margin: 0 0.4em 0.5em 0.4em;box-sizing: border-box;padding-bottom: 0.4em;background-color: white;}#sk-container-id-3 div.sk-label label {font-family: monospace;font-weight: bold;display: inline-block;line-height: 1.2em;}#sk-container-id-3 div.sk-label-container {text-align: center;}#sk-container-id-3 div.sk-container {/* jupyter's `normalize.less` sets `[hidden] { display: none; }` but bootstrap.min.css set `[hidden] { display: none !important; }` so we also need the `!important` here to be able to override the default hidden behavior on the sphinx rendered scikit-learn.org. See: https://github.com/scikit-learn/scikit-learn/issues/21755 */display: inline-block !important;position: relative;}#sk-container-id-3 div.sk-text-repr-fallback {display: none;}</style><div id=\"sk-container-id-3\" class=\"sk-top-container\"><div class=\"sk-text-repr-fallback\"><pre>OneClassSVM(kernel=&#x27;poly&#x27;, nu=0.7)</pre><b>In a Jupyter environment, please rerun this cell to show the HTML representation or trust the notebook. <br />On GitHub, the HTML representation is unable to render, please try loading this page with nbviewer.org.</b></div><div class=\"sk-container\" hidden><div class=\"sk-item\"><div class=\"sk-estimator sk-toggleable\"><input class=\"sk-toggleable__control sk-hidden--visually\" id=\"sk-estimator-id-3\" type=\"checkbox\" checked><label for=\"sk-estimator-id-3\" class=\"sk-toggleable__label sk-toggleable__label-arrow\">OneClassSVM</label><div class=\"sk-toggleable__content\"><pre>OneClassSVM(kernel=&#x27;poly&#x27;, nu=0.7)</pre></div></div></div></div></div>"
            ],
            "text/plain": [
              "OneClassSVM(kernel='poly', nu=0.7)"
            ]
          },
          "execution_count": 14,
          "metadata": {},
          "output_type": "execute_result"
        }
      ],
      "source": [
        "ocsvm_poly = OneClassSVM(kernel='poly', nu=0.7)\n",
        "real_train_imgs_norm = train_imgs_norm[train_lbs == 0] # Only train 'real' class\n",
        "ocsvm_poly.fit(real_train_imgs_norm)"
      ]
    },
    {
      "cell_type": "code",
      "execution_count": null,
      "metadata": {
        "colab": {
          "base_uri": "https://localhost:8080/"
        },
        "id": "heCuZ8wHUV1S",
        "outputId": "7f091de5-a1ba-45f0-dc02-5a3fee107153"
      },
      "outputs": [
        {
          "name": "stdout",
          "output_type": "stream",
          "text": [
            "Precision (Poly Kernel): 0.5558\n",
            "Recall (Poly Kernel): 0.8744\n",
            "F1 Score (Poly Kernel): 0.6796\n",
            "Accuracy (Poly Kernel): 0.5871\n"
          ]
        }
      ],
      "source": [
        "val_preds_poly = ocsvm_poly.predict(val_imgs_norm)\n",
        "val_preds_poly = np.where(val_preds_poly == 1, 0, 1)\n",
        "\n",
        "precision_poly = precision_score(val_lbs, val_preds_poly)\n",
        "recall_poly = recall_score(val_lbs, val_preds_poly)\n",
        "f1_poly = f1_score(val_lbs, val_preds_poly)\n",
        "accuracy_poly = accuracy_score(val_lbs, val_preds_poly)\n",
        "\n",
        "print(f\"Precision (Poly Kernel): {precision_poly:.4f}\")\n",
        "print(f\"Recall (Poly Kernel): {recall_poly:.4f}\")\n",
        "print(f\"F1 Score (Poly Kernel): {f1_poly:.4f}\")\n",
        "print(f\"Accuracy (Poly Kernel): {accuracy_poly:.4f}\")"
      ]
    },
    {
      "cell_type": "markdown",
      "metadata": {
        "id": "OzQoRbtsFWh4"
      },
      "source": [
        "**a-1) Best Performance (F1 score)**<br/>\n",
        "- Poly Kernel\n",
        "\n",
        "**a-2) Result of applying model on the test set** <br/>\n",
        "- Precision (Test Set): 0.5620\n",
        "- Recall (Test Set): 0.8479\n",
        "- F1 Score (Test Set): 0.6760\n",
        "- Accuracy (Test Set): 0.5908\n",
        "\n",
        "<br/>\n",
        "\n",
        "**b-1) F1 Score of Poly kernel model on test set**<br/>\n",
        "- 0.6760\n",
        "\n",
        "**b-2) Result of real and fake data separately.**<br/>\n",
        "- Precision (Fake): 0.5620\n",
        "- Recall (Fake): 0.8479\n",
        "- F1 Score (Fake): 0.6760\n",
        "- Accuracy (Fake): 0.8479\n",
        "\n",
        "<br/>\n",
        "\n",
        "- Precision (Real): 0.6815\n",
        "- Recall (Real): 0.3300\n",
        "- F1 Score (Real): 0.4447\n",
        "- Accuracy (Real): 0.3300\n",
        "\n",
        "<br/>\n",
        "\n",
        "The provided code evaluates the performance of the best OCSVM model (with polynomial kernel) on the test dataset by predicting labels and computing various metrics. First, the test set predictions are generated and transformed to match the original label convention, where 0 indicates 'real' images and 1 indicates 'fake' images. The confusion matrix is then computed to obtain the true positives (TP), true negatives (TN), false positives (FP), and false negatives (FN). Using these values, precision, recall, F1 score, and accuracy are calculated separately for 'fake' (positive class) and 'real' (negative class) images. Notably, the accuracy for 'fake' and 'real' images is computed in a manner similar to recall, reflecting the proportion of correctly identified instances for each class."
      ]
    },
    {
      "cell_type": "code",
      "execution_count": null,
      "metadata": {
        "colab": {
          "base_uri": "https://localhost:8080/"
        },
        "id": "5_KnaJ_hFVWG",
        "outputId": "67a8d024-2c12-4ad2-e794-bfbc6d278b3a"
      },
      "outputs": [
        {
          "name": "stdout",
          "output_type": "stream",
          "text": [
            "Precision (Test Set): 0.5620\n",
            "Recall (Test Set): 0.8479\n",
            "F1 Score (Test Set): 0.6760\n",
            "Accuracy (Test Set): 0.5908\n",
            "\n",
            "Precision (Fake): 0.5620\n",
            "Recall (Fake): 0.8479\n",
            "F1 Score (Fake): 0.6760\n",
            "Accuracy (Fake): 0.8479\n",
            "\n",
            "Precision (Real): 0.6815\n",
            "Recall (Real): 0.3300\n",
            "F1 Score (Real): 0.4447\n",
            "Accuracy (Real): 0.3300\n"
          ]
        }
      ],
      "source": [
        "from sklearn.metrics import confusion_matrix, precision_score, recall_score, f1_score, accuracy_score\n",
        "\n",
        "best_ocsvm_model = ocsvm_poly\n",
        "\n",
        "test_preds_poly = best_ocsvm_model.predict(test_imgs_norm)\n",
        "test_preds_poly = np.where(test_preds_poly == 1, 0, 1)\n",
        "\n",
        "precision_test = precision_score(test_lbs, test_preds_poly)\n",
        "recall_test = recall_score(test_lbs, test_preds_poly)\n",
        "f1_test = f1_score(test_lbs, test_preds_poly)\n",
        "accuracy_test = accuracy_score(test_lbs, test_preds_poly)\n",
        "\n",
        "print(f\"Precision (Test Set): {precision_test:.4f}\")\n",
        "print(f\"Recall (Test Set): {recall_test:.4f}\")\n",
        "print(f\"F1 Score (Test Set): {f1_test:.4f}\")\n",
        "print(f\"Accuracy (Test Set): {accuracy_test:.4f}\\n\")\n",
        "\n",
        "# TP, TN, FP, FN\n",
        "cm = confusion_matrix(test_lbs, test_preds_poly)\n",
        "tn, fp, fn, tp = cm.ravel()\n",
        "\n",
        "# Calculate precision, recall, F1 score, accuracy for 'fake' (positive class)\n",
        "precision_fake = tp / (tp + fp) if (tp + fp) != 0 else 0\n",
        "recall_fake = tp / (tp + fn) if (tp + fn) != 0 else 0\n",
        "f1_fake = 2 * precision_fake * recall_fake / (precision_fake + recall_fake) if (precision_fake + recall_fake) != 0 else 0\n",
        "accuracy_fake = tp / (tp + fn) if (tp + fn) > 0 else 0\n",
        "\n",
        "# Calculate precision, recall, F1 score, accuracy for 'real' (negative class)\n",
        "precision_real = tn / (tn + fn) if (tn + fn) != 0 else 0\n",
        "recall_real = tn / (tn + fp) if (tn + fp) != 0 else 0\n",
        "f1_real = 2 * precision_real * recall_real / (precision_real + recall_real) if (precision_real + recall_real) != 0 else 0\n",
        "accuracy_real = tn / (tn + fp) if (tn + fp) > 0 else 0\n",
        "\n",
        "print(f\"Precision (Fake): {precision_fake:.4f}\")\n",
        "print(f\"Recall (Fake): {recall_fake:.4f}\")\n",
        "print(f\"F1 Score (Fake): {f1_fake:.4f}\")\n",
        "print(f\"Accuracy (Fake): {accuracy_fake:.4f}\\n\")\n",
        "\n",
        "print(f\"Precision (Real): {precision_real:.4f}\")\n",
        "print(f\"Recall (Real): {recall_real:.4f}\")\n",
        "print(f\"F1 Score (Real): {f1_real:.4f}\")\n",
        "print(f\"Accuracy (Real): {accuracy_real:.4f}\")"
      ]
    },
    {
      "cell_type": "markdown",
      "metadata": {
        "id": "T9-FLlRZSPfC"
      },
      "source": [
        "In this project, we had gone through the use of One Class SVM and use of OCSVM in real life dataset."
      ]
    }
  ],
  "metadata": {
    "colab": {
      "provenance": []
    },
    "kernelspec": {
      "display_name": "Python 3",
      "language": "python",
      "name": "python3"
    },
    "language_info": {
      "codemirror_mode": {
        "name": "ipython",
        "version": 3
      },
      "file_extension": ".py",
      "mimetype": "text/x-python",
      "name": "python",
      "nbconvert_exporter": "python",
      "pygments_lexer": "ipython3",
      "version": "3.8.3"
    }
  },
  "nbformat": 4,
  "nbformat_minor": 0
}